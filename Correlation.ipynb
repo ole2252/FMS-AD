{
 "cells": [
  {
   "cell_type": "code",
   "execution_count": 12,
   "metadata": {},
   "outputs": [],
   "source": [
    "import time, datetime\n",
    "import requests \n",
    "import pickle as pkl \n",
    "import numpy as np\n",
    "import pandas as pd\n",
    "import matplotlib.pyplot as plt\n",
    "from tqdm.notebook import tqdm, trange\n",
    "import json\n",
    "\n",
    "from sklearn.metrics import confusion_matrix\n",
    "from sklearn.metrics import precision_recall_fscore_support\n"
   ]
  },
  {
   "cell_type": "code",
   "execution_count": 13,
   "metadata": {},
   "outputs": [],
   "source": [
    "def query_prom(query, startTime, endTime, PROMETHEUS = 'http://20.71.55.156:9090/', debug=False):\n",
    "    response = requests.get(PROMETHEUS + '/api/v1/query_range',\n",
    "      params={'query': query,\n",
    "              'start': startTime,\n",
    "              'end': endTime,\n",
    "              'step': '15s'})\n",
    "    if debug:\n",
    "        print(response.json())\n",
    "    results = response.json()['data']['result']\n",
    "    return results"
   ]
  },
  {
   "cell_type": "code",
   "execution_count": 14,
   "metadata": {},
   "outputs": [
    {
     "name": "stdout",
     "output_type": "stream",
     "text": [
      "By selecting VM metrics onlye, number of metrics reduce number of metrics from 620 to 236\n"
     ]
    }
   ],
   "source": [
    "from prometheus_api_client import PrometheusConnect\n",
    "prom = PrometheusConnect(url =\"http://20.71.55.156:9090\", disable_ssl=True)\n",
    "\n",
    "# Get the list of all the metrics that the Prometheus host scrapes\n",
    "metrics = prom.all_metrics()\n",
    "# import pprint\n",
    "# pprint.pprint(metrics)\n",
    "\n",
    "# We are interested resource related metrics (VM metrics)\n",
    "node_metrics = [i for i in metrics if i.startswith('node_')]\n",
    "\n",
    "print(f\"By selecting VM metrics onlye, number of metrics reduce number of metrics from %i to %i\" \\\n",
    "      %(len(metrics), len(node_metrics)))\n"
   ]
  },
  {
   "cell_type": "code",
   "execution_count": 15,
   "metadata": {},
   "outputs": [],
   "source": [
    "startTime = 1619692800\n",
    "endTime = 1619696520\n",
    "\n",
    "startTime = 1620598279\n",
    "endTime = 1620648679\n",
    "\n",
    "startTime = 1621335960\n",
    "endTime = 1621343220\n"
   ]
  },
  {
   "cell_type": "code",
   "execution_count": 16,
   "metadata": {},
   "outputs": [],
   "source": [
    "caliper_txn_failure = list(map(float,np.array(query_prom('caliper_txn_failure', startTime, endTime)[0]['values'])[:,1]))\n"
   ]
  },
  {
   "cell_type": "code",
   "execution_count": 17,
   "metadata": {},
   "outputs": [],
   "source": [
    "def caliper_df(label, startTime=startTime, endTime=endTime):\n",
    "    label_data = query_prom(label, startTime, endTime, debug=False)[0]\n",
    "    time = list(map(int, np.array(label_data['values'])[:,0]))\n",
    "    value_t = list(map(float, np.array(label_data['values'])[:,1]))\n",
    "    # transfer time from timestamp to datetime\n",
    "    time_ax = []\n",
    "    for each in time:\n",
    "        time_ax.append(datetime.datetime.fromtimestamp(each))\n",
    "    label = [0]\n",
    "    for i in range(1,len(value_t)):\n",
    "        if value_t[i]-value_t[i-1] != 0:\n",
    "            label.append(1)\n",
    "        else:\n",
    "            label.append(0)\n",
    "    return pd.DataFrame({'time': time_ax,'label': label})\n",
    "\n",
    "\n",
    "# Caliper data for label\n",
    "txn_failure = 'caliper_txn_failure'\n",
    "label_data=caliper_df(txn_failure)"
   ]
  },
  {
   "cell_type": "markdown",
   "metadata": {},
   "source": [
    "# query"
   ]
  },
  {
   "cell_type": "code",
   "execution_count": 18,
   "metadata": {},
   "outputs": [],
   "source": [
    "# OLD"
   ]
  },
  {
   "cell_type": "code",
   "execution_count": 19,
   "metadata": {},
   "outputs": [],
   "source": [
    "# def query_data(metric):\n",
    "#     query = 'irate('+metric+'{device=\"sdb\",instance=\"nodeexporter1\",job=\"nodeexporter\"}[5m])'\n",
    "#     try:\n",
    "#         result = query_prom(query, startTime, endTime)[0]\n",
    "#         value = list(map(float, np.array(result['values'])[:,1]))\n",
    "#         label_data[metric] = value\n",
    "#         return value\n",
    "#     except:\n",
    "#         pass\n",
    "    \n",
    "# for metric in tqdm(node_metrics):\n",
    "#     query_data(metric)"
   ]
  },
  {
   "cell_type": "code",
   "execution_count": 20,
   "metadata": {},
   "outputs": [],
   "source": [
    "# New"
   ]
  },
  {
   "cell_type": "code",
   "execution_count": 47,
   "metadata": {},
   "outputs": [],
   "source": [
    "queries = []\n",
    "\n",
    "with open('Node Exporter Full-1622052567560.json') as json_file:\n",
    "    data = json.load(json_file)\n",
    "#     print(len(data['panels']))\n",
    "    for j,i in enumerate(data['panels']):\n",
    "        try:\n",
    "            queries.append(i['targets'][0]['expr'])\n",
    "        except:\n",
    "            pass\n",
    "#     pprint.pprint(data['panels'][-4]['targets'][0]['expr'])\n",
    "\n",
    "query = 'irate(node_disk_io_time_seconds_total{device=\"sdb\",instance=\"nodeexporter1\",job=\"nodeexporter\"}[5m])'\n",
    "query = ('(((count(count(node_cpu_seconds_total{instance=\"$node\",job=\"$job\"}) by '\n",
    " '(cpu))) - avg(sum by '\n",
    " '(mode)(rate(node_cpu_seconds_total{mode=\\'idle\\',instance=\"$node\",job=\"$job\"}[$__rate_interval])))) '\n",
    " '* 100) / count(count(node_cpu_seconds_total{instance=\"$node\",job=\"$job\"}) by '\n",
    " '(cpu))')\n",
    "def set_query(query):\n",
    "    query = query.replace('$job', 'nodeexporter')\n",
    "    query = query.replace('$node', 'nodeexporter2')\n",
    "    query = query.replace('$__rate_interval', '5m')\n",
    "    return query\n",
    "\n",
    "for i in queries:\n",
    "    query = set_query(i)\n",
    "    try:\n",
    "        result = query_prom(query, startTime, endTime)[0]\n",
    "    except:\n",
    "        pass"
   ]
  },
  {
   "cell_type": "code",
   "execution_count": 65,
   "metadata": {},
   "outputs": [
    {
     "data": {
      "application/vnd.jupyter.widget-view+json": {
       "model_id": "ecb46750dbfb4150b72f50a6fc475be9",
       "version_major": 2,
       "version_minor": 0
      },
      "text/plain": [
       "HBox(children=(FloatProgress(value=0.0, max=22.0), HTML(value='')))"
      ]
     },
     "metadata": {},
     "output_type": "display_data"
    },
    {
     "name": "stdout",
     "output_type": "stream",
     "text": [
      "\n"
     ]
    }
   ],
   "source": [
    "def query_data(query, label):\n",
    "    try:\n",
    "        result = query_prom(query, startTime, endTime)[0]\n",
    "        value = list(map(float, np.array(result['values'])[:,1]))\n",
    "        label_data[label] = value\n",
    "        return value\n",
    "    except:\n",
    "        pass\n",
    "\n",
    "# todo get name from json\n",
    "i = 0\n",
    "for query in tqdm(queries):\n",
    "    query = set_query(query)\n",
    "    query_data(query, i)\n",
    "    i+=1"
   ]
  },
  {
   "cell_type": "code",
   "execution_count": 66,
   "metadata": {},
   "outputs": [],
   "source": [
    "# TODO Handle nan instead of fill 0\n",
    "label_data = label_data.fillna(0)\n"
   ]
  },
  {
   "cell_type": "markdown",
   "metadata": {},
   "source": [
    "<p style=\"color:red;\">Looks like not all metrics hold data since query_prom(query, startTime, endTime)[0] is empty</p>"
   ]
  },
  {
   "cell_type": "code",
   "execution_count": 67,
   "metadata": {},
   "outputs": [
    {
     "data": {
      "text/html": [
       "<div>\n",
       "<style scoped>\n",
       "    .dataframe tbody tr th:only-of-type {\n",
       "        vertical-align: middle;\n",
       "    }\n",
       "\n",
       "    .dataframe tbody tr th {\n",
       "        vertical-align: top;\n",
       "    }\n",
       "\n",
       "    .dataframe thead th {\n",
       "        text-align: right;\n",
       "    }\n",
       "</style>\n",
       "<table border=\"1\" class=\"dataframe\">\n",
       "  <thead>\n",
       "    <tr style=\"text-align: right;\">\n",
       "      <th></th>\n",
       "      <th>time</th>\n",
       "      <th>label</th>\n",
       "      <th>caliper_txn_falure</th>\n",
       "      <th>0</th>\n",
       "      <th>1</th>\n",
       "      <th>2</th>\n",
       "      <th>3</th>\n",
       "      <th>4</th>\n",
       "      <th>6</th>\n",
       "      <th>7</th>\n",
       "      <th>9</th>\n",
       "      <th>10</th>\n",
       "      <th>11</th>\n",
       "      <th>12</th>\n",
       "      <th>13</th>\n",
       "      <th>14</th>\n",
       "      <th>15</th>\n",
       "      <th>16</th>\n",
       "      <th>17</th>\n",
       "      <th>18</th>\n",
       "    </tr>\n",
       "  </thead>\n",
       "  <tbody>\n",
       "    <tr>\n",
       "      <th>0</th>\n",
       "      <td>2021-05-18 13:06:00</td>\n",
       "      <td>0</td>\n",
       "      <td>12506.0</td>\n",
       "      <td>6.950000</td>\n",
       "      <td>4.25</td>\n",
       "      <td>21.25</td>\n",
       "      <td>23.388541</td>\n",
       "      <td>0.0</td>\n",
       "      <td>4.0</td>\n",
       "      <td>1.089743e+07</td>\n",
       "      <td>1.679186e+10</td>\n",
       "      <td>0.0</td>\n",
       "      <td>9.196610</td>\n",
       "      <td>1.679186e+10</td>\n",
       "      <td>1564.311864</td>\n",
       "      <td>37.241920</td>\n",
       "      <td>9.196610</td>\n",
       "      <td>9.249055e+08</td>\n",
       "      <td>1564.311864</td>\n",
       "      <td>1.155866e+10</td>\n",
       "    </tr>\n",
       "    <tr>\n",
       "      <th>1</th>\n",
       "      <td>2021-05-18 13:06:15</td>\n",
       "      <td>0</td>\n",
       "      <td>12506.0</td>\n",
       "      <td>7.016949</td>\n",
       "      <td>4.00</td>\n",
       "      <td>21.00</td>\n",
       "      <td>23.803510</td>\n",
       "      <td>0.0</td>\n",
       "      <td>4.0</td>\n",
       "      <td>1.089745e+07</td>\n",
       "      <td>1.679186e+10</td>\n",
       "      <td>0.0</td>\n",
       "      <td>9.213559</td>\n",
       "      <td>1.679186e+10</td>\n",
       "      <td>1568.650847</td>\n",
       "      <td>38.898826</td>\n",
       "      <td>9.213559</td>\n",
       "      <td>9.919160e+08</td>\n",
       "      <td>1568.650847</td>\n",
       "      <td>1.207291e+10</td>\n",
       "    </tr>\n",
       "    <tr>\n",
       "      <th>2</th>\n",
       "      <td>2021-05-18 13:06:30</td>\n",
       "      <td>0</td>\n",
       "      <td>12506.0</td>\n",
       "      <td>7.424576</td>\n",
       "      <td>3.75</td>\n",
       "      <td>20.50</td>\n",
       "      <td>17.132260</td>\n",
       "      <td>0.0</td>\n",
       "      <td>4.0</td>\n",
       "      <td>1.089746e+07</td>\n",
       "      <td>1.679186e+10</td>\n",
       "      <td>0.0</td>\n",
       "      <td>9.813559</td>\n",
       "      <td>1.679186e+10</td>\n",
       "      <td>1582.318644</td>\n",
       "      <td>35.703579</td>\n",
       "      <td>9.813559</td>\n",
       "      <td>1.085415e+09</td>\n",
       "      <td>1582.318644</td>\n",
       "      <td>1.108121e+10</td>\n",
       "    </tr>\n",
       "    <tr>\n",
       "      <th>3</th>\n",
       "      <td>2021-05-18 13:06:45</td>\n",
       "      <td>1</td>\n",
       "      <td>0.0</td>\n",
       "      <td>8.510169</td>\n",
       "      <td>4.50</td>\n",
       "      <td>20.50</td>\n",
       "      <td>18.097213</td>\n",
       "      <td>0.0</td>\n",
       "      <td>4.0</td>\n",
       "      <td>1.089748e+07</td>\n",
       "      <td>1.679186e+10</td>\n",
       "      <td>0.0</td>\n",
       "      <td>11.227119</td>\n",
       "      <td>1.679186e+10</td>\n",
       "      <td>1580.040678</td>\n",
       "      <td>35.812509</td>\n",
       "      <td>11.227119</td>\n",
       "      <td>1.210036e+09</td>\n",
       "      <td>1580.040678</td>\n",
       "      <td>1.111502e+10</td>\n",
       "    </tr>\n",
       "    <tr>\n",
       "      <th>4</th>\n",
       "      <td>2021-05-18 13:07:00</td>\n",
       "      <td>0</td>\n",
       "      <td>0.0</td>\n",
       "      <td>10.101695</td>\n",
       "      <td>7.50</td>\n",
       "      <td>21.25</td>\n",
       "      <td>18.636683</td>\n",
       "      <td>0.0</td>\n",
       "      <td>4.0</td>\n",
       "      <td>1.089749e+07</td>\n",
       "      <td>1.679186e+10</td>\n",
       "      <td>0.0</td>\n",
       "      <td>13.088136</td>\n",
       "      <td>1.679186e+10</td>\n",
       "      <td>1577.762712</td>\n",
       "      <td>35.951873</td>\n",
       "      <td>13.088136</td>\n",
       "      <td>1.252499e+09</td>\n",
       "      <td>1577.762712</td>\n",
       "      <td>1.115827e+10</td>\n",
       "    </tr>\n",
       "  </tbody>\n",
       "</table>\n",
       "</div>"
      ],
      "text/plain": [
       "                 time  label  caliper_txn_falure          0     1      2  \\\n",
       "0 2021-05-18 13:06:00      0             12506.0   6.950000  4.25  21.25   \n",
       "1 2021-05-18 13:06:15      0             12506.0   7.016949  4.00  21.00   \n",
       "2 2021-05-18 13:06:30      0             12506.0   7.424576  3.75  20.50   \n",
       "3 2021-05-18 13:06:45      1                 0.0   8.510169  4.50  20.50   \n",
       "4 2021-05-18 13:07:00      0                 0.0  10.101695  7.50  21.25   \n",
       "\n",
       "           3    4    6             7             9   10         11  \\\n",
       "0  23.388541  0.0  4.0  1.089743e+07  1.679186e+10  0.0   9.196610   \n",
       "1  23.803510  0.0  4.0  1.089745e+07  1.679186e+10  0.0   9.213559   \n",
       "2  17.132260  0.0  4.0  1.089746e+07  1.679186e+10  0.0   9.813559   \n",
       "3  18.097213  0.0  4.0  1.089748e+07  1.679186e+10  0.0  11.227119   \n",
       "4  18.636683  0.0  4.0  1.089749e+07  1.679186e+10  0.0  13.088136   \n",
       "\n",
       "             12           13         14         15            16           17  \\\n",
       "0  1.679186e+10  1564.311864  37.241920   9.196610  9.249055e+08  1564.311864   \n",
       "1  1.679186e+10  1568.650847  38.898826   9.213559  9.919160e+08  1568.650847   \n",
       "2  1.679186e+10  1582.318644  35.703579   9.813559  1.085415e+09  1582.318644   \n",
       "3  1.679186e+10  1580.040678  35.812509  11.227119  1.210036e+09  1580.040678   \n",
       "4  1.679186e+10  1577.762712  35.951873  13.088136  1.252499e+09  1577.762712   \n",
       "\n",
       "             18  \n",
       "0  1.155866e+10  \n",
       "1  1.207291e+10  \n",
       "2  1.108121e+10  \n",
       "3  1.111502e+10  \n",
       "4  1.115827e+10  "
      ]
     },
     "execution_count": 67,
     "metadata": {},
     "output_type": "execute_result"
    }
   ],
   "source": [
    "caliper_txn_failure = list(map(float,np.array(query_prom('caliper_txn_failure', startTime, endTime)[0]['values'])[:,1]))\n",
    "label_data[\"caliper_txn_falure\"] = caliper_txn_failure\n",
    "label_data.head()"
   ]
  },
  {
   "cell_type": "markdown",
   "metadata": {},
   "source": [
    "# Correlation\n",
    "<p style=\"color:red;\">Correlate with caliper txn falure or boolean labels?</p>"
   ]
  },
  {
   "cell_type": "code",
   "execution_count": 68,
   "metadata": {},
   "outputs": [],
   "source": [
    "labels_to_correlate = label_data.drop(['label', 'caliper_txn_falure', 'time'], axis=1)"
   ]
  },
  {
   "cell_type": "code",
   "execution_count": 69,
   "metadata": {
    "scrolled": true
   },
   "outputs": [
    {
     "name": "stderr",
     "output_type": "stream",
     "text": [
      "/home/ole/.local/lib/python3.6/site-packages/scipy/stats/stats.py:3845: PearsonRConstantInputWarning: An input array is constant; the correlation coefficent is not defined.\n",
      "  warnings.warn(PearsonRConstantInputWarning())\n"
     ]
    }
   ],
   "source": [
    "from scipy import stats\n",
    "import pprint\n",
    "\n",
    "correlation_txn_falure = {}\n",
    "for label in labels_to_correlate.columns:\n",
    "    r,p = stats.pearsonr(labels_to_correlate[label], label_data.caliper_txn_falure)\n",
    "    correlation_txn_falure[label] = (p,r)\n"
   ]
  },
  {
   "cell_type": "code",
   "execution_count": 70,
   "metadata": {},
   "outputs": [
    {
     "data": {
      "text/plain": [
       "<AxesSubplot:>"
      ]
     },
     "execution_count": 70,
     "metadata": {},
     "output_type": "execute_result"
    },
    {
     "data": {
      "image/png": "[encoded data removed]",
      "text/plain": [
       "<Figure size 1440x1440 with 2 Axes>"
      ]
     },
     "metadata": {
      "needs_background": "light"
     },
     "output_type": "display_data"
    }
   ],
   "source": [
    "import seaborn as sns\n",
    "\n",
    "txn_falure_correlation = pd.DataFrame.from_dict(correlation_txn_falure, orient='index').rename(columns={0:'r', 1:'p-value'}).sort_values('r', ascending=False)\n",
    "\n",
    "plt.figure(figsize=(20,20))\n",
    "sns.heatmap(txn_falure_correlation, cmap='GnBu_r', square=True, annot=True, linewidths=.5)"
   ]
  },
  {
   "cell_type": "code",
   "execution_count": 72,
   "metadata": {},
   "outputs": [
    {
     "data": {
      "text/plain": [
       "<AxesSubplot:>"
      ]
     },
     "execution_count": 72,
     "metadata": {},
     "output_type": "execute_result"
    },
    {
     "data": {
      "image/png": "[encoded data removed]",
      "text/plain": [
       "<Figure size 1584x1584 with 2 Axes>"
      ]
     },
     "metadata": {
      "needs_background": "light"
     },
     "output_type": "display_data"
    }
   ],
   "source": [
    "from scipy import stats\n",
    "import pprint\n",
    "\n",
    "correlation_txn_falure_bool = {}\n",
    "for label in labels_to_correlate.columns:\n",
    "    r,p = stats.pointbiserialr(labels_to_correlate[label], label_data.label)\n",
    "    correlation_txn_falure_bool[label] = (p,r)\n",
    "pointbiserialr = pd.DataFrame.from_dict(correlation_txn_falure_bool, orient='index').rename(columns={0:'r', 1:'p-value'}).sort_values('r', ascending=False)\n",
    "\n",
    "plt.figure(figsize=(22,22))\n",
    "sns.heatmap(pointbiserialr, cmap='GnBu_r', square=True, annot=True, linewidths=.5)"
   ]
  },
  {
   "cell_type": "markdown",
   "metadata": {},
   "source": [
    "<p style=\"color:red;\">2 methods to calculate correlation, dont know which method is best for the data</p>"
   ]
  },
  {
   "cell_type": "code",
   "execution_count": 73,
   "metadata": {},
   "outputs": [
    {
     "data": {
      "text/plain": [
       "<AxesSubplot:>"
      ]
     },
     "execution_count": 73,
     "metadata": {},
     "output_type": "execute_result"
    },
    {
     "data": {
      "image/png": "[encoded data removed]",
      "text/plain": [
       "<Figure size 792x648 with 2 Axes>"
      ]
     },
     "metadata": {
      "needs_background": "light"
     },
     "output_type": "display_data"
    }
   ],
   "source": [
    "correlations = label_data.corr().dropna(axis=1, how='all').T.dropna(axis=1, how='all').T\n",
    "# heatmap\n",
    "\n",
    "matrix = np.triu(correlations)\n",
    "\n",
    "plt.figure(figsize=(11,9))\n",
    "sns.heatmap(correlations, cmap='GnBu_r', square=True, annot=True, linewidths=.5, mask=matrix)\n",
    "#plt.savefig('xx.png')"
   ]
  },
  {
   "cell_type": "code",
   "execution_count": 74,
   "metadata": {},
   "outputs": [
    {
     "data": {
      "text/html": [
       "<div>\n",
       "<style scoped>\n",
       "    .dataframe tbody tr th:only-of-type {\n",
       "        vertical-align: middle;\n",
       "    }\n",
       "\n",
       "    .dataframe tbody tr th {\n",
       "        vertical-align: top;\n",
       "    }\n",
       "\n",
       "    .dataframe thead th {\n",
       "        text-align: right;\n",
       "    }\n",
       "</style>\n",
       "<table border=\"1\" class=\"dataframe\">\n",
       "  <thead>\n",
       "    <tr style=\"text-align: right;\">\n",
       "      <th></th>\n",
       "      <th>time</th>\n",
       "      <th>label</th>\n",
       "      <th>caliper_txn_falure</th>\n",
       "      <th>0</th>\n",
       "      <th>1</th>\n",
       "      <th>2</th>\n",
       "      <th>3</th>\n",
       "      <th>4</th>\n",
       "      <th>6</th>\n",
       "      <th>7</th>\n",
       "      <th>9</th>\n",
       "      <th>10</th>\n",
       "      <th>11</th>\n",
       "      <th>12</th>\n",
       "      <th>13</th>\n",
       "      <th>14</th>\n",
       "      <th>15</th>\n",
       "      <th>16</th>\n",
       "      <th>17</th>\n",
       "      <th>18</th>\n",
       "    </tr>\n",
       "  </thead>\n",
       "  <tbody>\n",
       "    <tr>\n",
       "      <th>0</th>\n",
       "      <td>2021-05-18 13:06:00</td>\n",
       "      <td>0</td>\n",
       "      <td>12506.0</td>\n",
       "      <td>6.950000</td>\n",
       "      <td>4.25</td>\n",
       "      <td>21.25</td>\n",
       "      <td>23.388541</td>\n",
       "      <td>0.0</td>\n",
       "      <td>4.0</td>\n",
       "      <td>1.089743e+07</td>\n",
       "      <td>1.679186e+10</td>\n",
       "      <td>0.0</td>\n",
       "      <td>9.196610</td>\n",
       "      <td>1.679186e+10</td>\n",
       "      <td>1564.311864</td>\n",
       "      <td>37.241920</td>\n",
       "      <td>9.196610</td>\n",
       "      <td>9.249055e+08</td>\n",
       "      <td>1564.311864</td>\n",
       "      <td>1.155866e+10</td>\n",
       "    </tr>\n",
       "    <tr>\n",
       "      <th>1</th>\n",
       "      <td>2021-05-18 13:06:15</td>\n",
       "      <td>0</td>\n",
       "      <td>12506.0</td>\n",
       "      <td>7.016949</td>\n",
       "      <td>4.00</td>\n",
       "      <td>21.00</td>\n",
       "      <td>23.803510</td>\n",
       "      <td>0.0</td>\n",
       "      <td>4.0</td>\n",
       "      <td>1.089745e+07</td>\n",
       "      <td>1.679186e+10</td>\n",
       "      <td>0.0</td>\n",
       "      <td>9.213559</td>\n",
       "      <td>1.679186e+10</td>\n",
       "      <td>1568.650847</td>\n",
       "      <td>38.898826</td>\n",
       "      <td>9.213559</td>\n",
       "      <td>9.919160e+08</td>\n",
       "      <td>1568.650847</td>\n",
       "      <td>1.207291e+10</td>\n",
       "    </tr>\n",
       "    <tr>\n",
       "      <th>2</th>\n",
       "      <td>2021-05-18 13:06:30</td>\n",
       "      <td>0</td>\n",
       "      <td>12506.0</td>\n",
       "      <td>7.424576</td>\n",
       "      <td>3.75</td>\n",
       "      <td>20.50</td>\n",
       "      <td>17.132260</td>\n",
       "      <td>0.0</td>\n",
       "      <td>4.0</td>\n",
       "      <td>1.089746e+07</td>\n",
       "      <td>1.679186e+10</td>\n",
       "      <td>0.0</td>\n",
       "      <td>9.813559</td>\n",
       "      <td>1.679186e+10</td>\n",
       "      <td>1582.318644</td>\n",
       "      <td>35.703579</td>\n",
       "      <td>9.813559</td>\n",
       "      <td>1.085415e+09</td>\n",
       "      <td>1582.318644</td>\n",
       "      <td>1.108121e+10</td>\n",
       "    </tr>\n",
       "    <tr>\n",
       "      <th>3</th>\n",
       "      <td>2021-05-18 13:06:45</td>\n",
       "      <td>1</td>\n",
       "      <td>0.0</td>\n",
       "      <td>8.510169</td>\n",
       "      <td>4.50</td>\n",
       "      <td>20.50</td>\n",
       "      <td>18.097213</td>\n",
       "      <td>0.0</td>\n",
       "      <td>4.0</td>\n",
       "      <td>1.089748e+07</td>\n",
       "      <td>1.679186e+10</td>\n",
       "      <td>0.0</td>\n",
       "      <td>11.227119</td>\n",
       "      <td>1.679186e+10</td>\n",
       "      <td>1580.040678</td>\n",
       "      <td>35.812509</td>\n",
       "      <td>11.227119</td>\n",
       "      <td>1.210036e+09</td>\n",
       "      <td>1580.040678</td>\n",
       "      <td>1.111502e+10</td>\n",
       "    </tr>\n",
       "    <tr>\n",
       "      <th>4</th>\n",
       "      <td>2021-05-18 13:07:00</td>\n",
       "      <td>0</td>\n",
       "      <td>0.0</td>\n",
       "      <td>10.101695</td>\n",
       "      <td>7.50</td>\n",
       "      <td>21.25</td>\n",
       "      <td>18.636683</td>\n",
       "      <td>0.0</td>\n",
       "      <td>4.0</td>\n",
       "      <td>1.089749e+07</td>\n",
       "      <td>1.679186e+10</td>\n",
       "      <td>0.0</td>\n",
       "      <td>13.088136</td>\n",
       "      <td>1.679186e+10</td>\n",
       "      <td>1577.762712</td>\n",
       "      <td>35.951873</td>\n",
       "      <td>13.088136</td>\n",
       "      <td>1.252499e+09</td>\n",
       "      <td>1577.762712</td>\n",
       "      <td>1.115827e+10</td>\n",
       "    </tr>\n",
       "  </tbody>\n",
       "</table>\n",
       "</div>"
      ],
      "text/plain": [
       "                 time  label  caliper_txn_falure          0     1      2  \\\n",
       "0 2021-05-18 13:06:00      0             12506.0   6.950000  4.25  21.25   \n",
       "1 2021-05-18 13:06:15      0             12506.0   7.016949  4.00  21.00   \n",
       "2 2021-05-18 13:06:30      0             12506.0   7.424576  3.75  20.50   \n",
       "3 2021-05-18 13:06:45      1                 0.0   8.510169  4.50  20.50   \n",
       "4 2021-05-18 13:07:00      0                 0.0  10.101695  7.50  21.25   \n",
       "\n",
       "           3    4    6             7             9   10         11  \\\n",
       "0  23.388541  0.0  4.0  1.089743e+07  1.679186e+10  0.0   9.196610   \n",
       "1  23.803510  0.0  4.0  1.089745e+07  1.679186e+10  0.0   9.213559   \n",
       "2  17.132260  0.0  4.0  1.089746e+07  1.679186e+10  0.0   9.813559   \n",
       "3  18.097213  0.0  4.0  1.089748e+07  1.679186e+10  0.0  11.227119   \n",
       "4  18.636683  0.0  4.0  1.089749e+07  1.679186e+10  0.0  13.088136   \n",
       "\n",
       "             12           13         14         15            16           17  \\\n",
       "0  1.679186e+10  1564.311864  37.241920   9.196610  9.249055e+08  1564.311864   \n",
       "1  1.679186e+10  1568.650847  38.898826   9.213559  9.919160e+08  1568.650847   \n",
       "2  1.679186e+10  1582.318644  35.703579   9.813559  1.085415e+09  1582.318644   \n",
       "3  1.679186e+10  1580.040678  35.812509  11.227119  1.210036e+09  1580.040678   \n",
       "4  1.679186e+10  1577.762712  35.951873  13.088136  1.252499e+09  1577.762712   \n",
       "\n",
       "             18  \n",
       "0  1.155866e+10  \n",
       "1  1.207291e+10  \n",
       "2  1.108121e+10  \n",
       "3  1.111502e+10  \n",
       "4  1.115827e+10  "
      ]
     },
     "execution_count": 74,
     "metadata": {},
     "output_type": "execute_result"
    }
   ],
   "source": [
    "label_data.head()"
   ]
  },
  {
   "cell_type": "code",
   "execution_count": null,
   "metadata": {},
   "outputs": [],
   "source": []
  }
 ],
 "metadata": {
  "kernelspec": {
   "display_name": "Python 3",
   "language": "python",
   "name": "python3"
  },
  "language_info": {
   "codemirror_mode": {
    "name": "ipython",
    "version": 3
   },
   "file_extension": ".py",
   "mimetype": "text/x-python",
   "name": "python",
   "nbconvert_exporter": "python",
   "pygments_lexer": "ipython3",
   "version": "3.6.9"
  }
 },
 "nbformat": 4,
 "nbformat_minor": 2
}
